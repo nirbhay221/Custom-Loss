{
  "nbformat": 4,
  "nbformat_minor": 0,
  "metadata": {
    "colab": {
      "name": "Untitled121.ipynb",
      "provenance": [],
      "collapsed_sections": []
    },
    "kernelspec": {
      "name": "python3",
      "display_name": "Python 3"
    }
  },
  "cells": [
    {
      "cell_type": "code",
      "metadata": {
        "id": "7E7mRKuuyppn"
      },
      "source": [
        "import tensorflow as tf\r\n",
        "from tensorflow import keras\r\n",
        "import numpy as np\r\n",
        "\r\n",
        "xs = np.array([-1.0,  0.0, 1.0, 2.0, 3.0, 4.0], dtype=float)\r\n",
        "\r\n",
        "# labels\r\n",
        "ys = np.array([-3.0, -1.0, 1.0, 3.0, 5.0, 7.0], dtype=float)"
      ],
      "execution_count": null,
      "outputs": []
    },
    {
      "cell_type": "code",
      "metadata": {
        "id": "Stjsok1WzgLL"
      },
      "source": [
        "model = tf.keras.models.Sequential([keras.layers.Dense(units=1,input_shape=[1])])"
      ],
      "execution_count": null,
      "outputs": []
    },
    {
      "cell_type": "code",
      "metadata": {
        "colab": {
          "base_uri": "https://localhost:8080/"
        },
        "id": "NC6K3mC40b9i",
        "outputId": "6a5bedb6-2067-4fbc-90a9-e3eaf276dd68"
      },
      "source": [
        "model.compile(optimizer ='sgd',loss= 'mean_squared_error')\r\n",
        "model.fit(xs,ys,epochs=500,verbose=0)\r\n",
        "print(model.predict([10.0]))"
      ],
      "execution_count": null,
      "outputs": [
        {
          "output_type": "stream",
          "text": [
            "[[18.999891]]\n"
          ],
          "name": "stdout"
        }
      ]
    },
    {
      "cell_type": "code",
      "metadata": {
        "id": "dhEjw4Bg07Fy"
      },
      "source": [
        "def Huber_Loss(y_true,y_pred):\r\n",
        "  error = y_true-y_pred\r\n",
        "  threshold = 1\r\n",
        "  is_small_error = tf.abs(error) <= threshold\r\n",
        "  small_error = tf.square(error)/2\r\n",
        "  big_error = threshold*(tf.abs(error) - (0.5 *threshold))\r\n",
        "  return tf.where(is_small_error,small_error,big_error)"
      ],
      "execution_count": null,
      "outputs": []
    },
    {
      "cell_type": "code",
      "metadata": {
        "colab": {
          "base_uri": "https://localhost:8080/"
        },
        "id": "hqp5XEaN6fYM",
        "outputId": "1022ac24-c96b-4dbe-cc7b-7d58acda1506"
      },
      "source": [
        "model = tf.keras.Sequential([keras.layers.Dense(units=1, input_shape=[1])])\r\n",
        "model.compile(optimizer='sgd', loss=Huber_Loss)\r\n",
        "model.fit(xs, ys, epochs=500,verbose=0)\r\n",
        "print(model.predict([10.0]))"
      ],
      "execution_count": null,
      "outputs": [
        {
          "output_type": "stream",
          "text": [
            "[[18.780287]]\n"
          ],
          "name": "stdout"
        }
      ]
    },
    {
      "cell_type": "code",
      "metadata": {
        "id": "LlsCSG3Z6lpA"
      },
      "source": [
        "def My_Huber_Loss(threshold):\r\n",
        "  def Huber_Loss(y_true,y_pred):\r\n",
        "    error = y_true-y_pred\r\n",
        "    is_small_error = tf.abs(error)<=threshold\r\n",
        "    small_error = tf.square(error)/2\r\n",
        "    big_error = threshold*(tf.abs(error)-(0.5*threshold))\r\n",
        "    return tf.where(is_small_error,small_error,big_error)\r\n",
        "  return Huber_Loss"
      ],
      "execution_count": null,
      "outputs": []
    },
    {
      "cell_type": "code",
      "metadata": {
        "colab": {
          "base_uri": "https://localhost:8080/"
        },
        "id": "bTX6yzIk_Ulc",
        "outputId": "89df2e4a-83d1-4d8c-c1c7-1870699c1022"
      },
      "source": [
        "model = tf.keras.Sequential([keras.layers.Dense(units=1, input_shape=[1])])\r\n",
        "model.compile(optimizer='sgd', loss=My_Huber_Loss(threshold = 1.2))\r\n",
        "model.fit(xs, ys, epochs=500,verbose=0)\r\n",
        "print(model.predict([10.0]))"
      ],
      "execution_count": null,
      "outputs": [
        {
          "output_type": "stream",
          "text": [
            "WARNING:tensorflow:5 out of the last 5 calls to <function Model.make_predict_function.<locals>.predict_function at 0x7fa6da574bf8> triggered tf.function retracing. Tracing is expensive and the excessive number of tracings could be due to (1) creating @tf.function repeatedly in a loop, (2) passing tensors with different shapes, (3) passing Python objects instead of tensors. For (1), please define your @tf.function outside of the loop. For (2), @tf.function has experimental_relax_shapes=True option that relaxes argument shapes that can avoid unnecessary retracing. For (3), please refer to https://www.tensorflow.org/tutorials/customization/performance#python_or_tensor_args and https://www.tensorflow.org/api_docs/python/tf/function for  more details.\n",
            "[[18.834488]]\n"
          ],
          "name": "stdout"
        }
      ]
    },
    {
      "cell_type": "code",
      "metadata": {
        "id": "uCCqmG0w_Yag"
      },
      "source": [
        "from tensorflow.keras.losses import Loss"
      ],
      "execution_count": null,
      "outputs": []
    },
    {
      "cell_type": "code",
      "metadata": {
        "id": "vC0SukdJAODf"
      },
      "source": [
        "class my_huber_loss(Loss):\r\n",
        "  def __init__(self,threshold):\r\n",
        "    super().__init__()\r\n",
        "    self.threshold=threshold\r\n",
        "  def call(self,y_true,y_pred):\r\n",
        "    error = y_true-y_pred\r\n",
        "    is_small_error = tf.abs(error) <= self.threshold\r\n",
        "    small_error = tf.square(error)/2\r\n",
        "    big_error = self.threshold*(tf.abs(error)- (0.5*self.threshold))\r\n",
        "    return tf.where(is_small_error,small_error,big_error)"
      ],
      "execution_count": null,
      "outputs": []
    },
    {
      "cell_type": "code",
      "metadata": {
        "colab": {
          "base_uri": "https://localhost:8080/"
        },
        "id": "TxyuQJA4BP8c",
        "outputId": "a1339e05-6cce-4ee1-aaa6-bf1e1828b02e"
      },
      "source": [
        "model = tf.keras.Sequential([keras.layers.Dense(units=1, input_shape=[1])])\r\n",
        "model.compile(optimizer='sgd', loss=my_huber_loss(threshold=1.02))\r\n",
        "model.fit(xs, ys, epochs=500,verbose=0)\r\n",
        "print(model.predict([10.0]))"
      ],
      "execution_count": null,
      "outputs": [
        {
          "output_type": "stream",
          "text": [
            "WARNING:tensorflow:6 out of the last 6 calls to <function Model.make_predict_function.<locals>.predict_function at 0x7fa6dda06ae8> triggered tf.function retracing. Tracing is expensive and the excessive number of tracings could be due to (1) creating @tf.function repeatedly in a loop, (2) passing tensors with different shapes, (3) passing Python objects instead of tensors. For (1), please define your @tf.function outside of the loop. For (2), @tf.function has experimental_relax_shapes=True option that relaxes argument shapes that can avoid unnecessary retracing. For (3), please refer to https://www.tensorflow.org/tutorials/customization/performance#python_or_tensor_args and https://www.tensorflow.org/api_docs/python/tf/function for  more details.\n",
            "[[18.729902]]\n"
          ],
          "name": "stdout"
        }
      ]
    },
    {
      "cell_type": "code",
      "metadata": {
        "id": "nKHM4d6lBebr"
      },
      "source": [
        "import tensorflow.keras.backend as K\r\n",
        "def my_rmse(y_true,y_pred):\r\n",
        "  error = y_true-y_pred\r\n",
        "  error = K.square(error)\r\n",
        "  error = K.mean(error)\r\n",
        "  error = K.sqrt(error)\r\n",
        "  return error\r\n"
      ],
      "execution_count": null,
      "outputs": []
    },
    {
      "cell_type": "code",
      "metadata": {
        "colab": {
          "base_uri": "https://localhost:8080/"
        },
        "id": "aUlFKiV4DE_I",
        "outputId": "5852bfd4-cb8a-47c9-e98d-27aa32cd0363"
      },
      "source": [
        "model = tf.keras.Sequential([tf.keras.layers.Dense(units=1,input_shape=[1])])\r\n",
        "model.compile(optimizer='sgd',loss=my_rmse)\r\n",
        "model.fit(xs,ys,epochs=500,verbose=0)\r\n",
        "print(model.predict([10.0]))"
      ],
      "execution_count": null,
      "outputs": [
        {
          "output_type": "stream",
          "text": [
            "WARNING:tensorflow:7 out of the last 7 calls to <function Model.make_predict_function.<locals>.predict_function at 0x7fa6dda25bf8> triggered tf.function retracing. Tracing is expensive and the excessive number of tracings could be due to (1) creating @tf.function repeatedly in a loop, (2) passing tensors with different shapes, (3) passing Python objects instead of tensors. For (1), please define your @tf.function outside of the loop. For (2), @tf.function has experimental_relax_shapes=True option that relaxes argument shapes that can avoid unnecessary retracing. For (3), please refer to https://www.tensorflow.org/tutorials/customization/performance#python_or_tensor_args and https://www.tensorflow.org/api_docs/python/tf/function for  more details.\n",
            "[[18.895985]]\n"
          ],
          "name": "stdout"
        }
      ]
    },
    {
      "cell_type": "code",
      "metadata": {
        "id": "MP6N2_5PDZ_s"
      },
      "source": [
        ""
      ],
      "execution_count": null,
      "outputs": []
    }
  ]
}